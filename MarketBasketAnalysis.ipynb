{
 "cells": [
  {
   "cell_type": "markdown",
   "metadata": {},
   "source": [
    "Loading data from dataset"
   ]
  },
  {
   "cell_type": "code",
   "execution_count": null,
   "metadata": {
    "collapsed": true
   },
   "outputs": [],
   "source": [
    "import numpy as np\n",
    "import pandas as pd\n",
    "import matplotlib.pyplot as plt\n",
    "from mlxtend.preprocessing import TransactionEncoder\n",
    "from apyori import apriori\n",
    "\n",
    "data = pd.read_csv('groceries - groceries.csv', sep=',', header=None)\n",
    "\n",
    "# drop column for number of items\n",
    "data = data.drop(data.columns[0], axis=1)\n",
    "\n",
    "# drop first row that is item1, item2, etc.\n",
    "data = data.drop(data.index[[0]])\n",
    "data.head()\n"
   ]
  },
  {
   "cell_type": "markdown",
   "metadata": {},
   "source": [
    "Transform transactions into lists of items and use transaction encoder"
   ]
  },
  {
   "cell_type": "code",
   "execution_count": null,
   "metadata": {},
   "outputs": [],
   "source": [
    "transactions = []\n",
    "for i in range(0, 9835):\n",
    "    transactions.append([str(data.values[i, j]) for j in range(0, 32)])\n",
    "    transactions[i] = list(filter('nan'.__ne__, transactions[i]))\n",
    "\n",
    "# use transaction encoder\n",
    "te = TransactionEncoder()\n",
    "transactions_data = te.fit_transform(transactions)\n",
    "transactions_data = pd.DataFrame(transactions_data, columns=te.columns_)\n",
    "transactions_data.head()\n"
   ]
  },
  {
   "cell_type": "markdown",
   "metadata": {},
   "source": [
    "Find number of purchases for each product"
   ]
  },
  {
   "cell_type": "code",
   "execution_count": null,
   "metadata": {},
   "outputs": [],
   "source": [
    "purchases = []\n",
    "# find number of purchases\n",
    "for c in transactions_data.columns:\n",
    "    purchases.append(transactions_data[transactions_data[c] == True][c].value_counts()\n",
    "                     .tolist()[0])\n",
    "\n",
    "purchases_number = pd.DataFrame([purchases], columns=transactions_data.columns)\n",
    "\n",
    "# sort products by number of purchases\n",
    "purchases_most = purchases_number.sort_values(by=0, ascending=False, axis=1)\n",
    "purchases_least = purchases_number.sort_values(by=0, ascending=True, axis=1)\n",
    "purchases_least.head()\n"
   ]
  },
  {
   "cell_type": "markdown",
   "metadata": {},
   "source": [
    "Plot most and least purchased products"
   ]
  },
  {
   "cell_type": "code",
   "execution_count": null,
   "metadata": {},
   "outputs": [],
   "source": [
    "# plot most purchased products\n",
    "plt.figure(figsize=(18, 7))\n",
    "plt.ylabel(\"Frequency\")\n",
    "plt.bar(purchases_most.columns[:10], purchases_most.values[0, :10], color=(1.0, 0.0, 0.0))\n",
    "plt.xticks(rotation=90)\n",
    "plt.title(\"Most purchased products\")\n",
    "plt.show()\n",
    "\n",
    "# plot least purchased products\n",
    "plt.figure(figsize=(18, 7))\n",
    "plt.ylabel(\"Frequency\")\n",
    "plt.bar(purchases_least.columns[:10], purchases_least.values[0, :10], color=(0.0, 0.0, 1.0))\n",
    "plt.xticks(rotation=90)\n",
    "plt.title(\"Least purchased products\")\n",
    "plt.show()\n"
   ]
  },
  {
   "cell_type": "markdown",
   "metadata": {},
   "source": [
    "Frequency of purchased products"
   ]
  },
  {
   "cell_type": "code",
   "execution_count": null,
   "metadata": {},
   "outputs": [],
   "source": [
    "vals = np.linspace(0, 1, 169)\n",
    "\n",
    "plt.figure(figsize=(18, 7))\n",
    "color = plt.cm.autumn(vals[:45])\n",
    "plt.bar(purchases_most.columns[:45], purchases_most.values[0, :45], color=color)\n",
    "plt.xticks(rotation=90)\n",
    "plt.title(\"Frequency of purchased products part 1\")\n",
    "plt.show()\n",
    "\n",
    "plt.figure(figsize=(18, 7))\n",
    "color = plt.cm.autumn(vals[45:90])\n",
    "plt.bar(purchases_most.columns[45:90], purchases_most.values[0, 45:90], color=color)\n",
    "plt.xticks(rotation=90)\n",
    "plt.title(\"Frequency of purchased products part 2\")\n",
    "plt.show()\n",
    "\n",
    "plt.figure(figsize=(18, 7))\n",
    "color = plt.cm.autumn(vals[90:135])\n",
    "plt.bar(purchases_most.columns[90:135], purchases_most.values[0, 90:135], color=color)\n",
    "plt.xticks(rotation=90)\n",
    "plt.title(\"Frequency of purchased products part 3\")\n",
    "plt.show()\n",
    "\n",
    "plt.figure(figsize=(18, 7))\n",
    "color = plt.cm.autumn(vals[135:169])\n",
    "plt.bar(purchases_most.columns[135:169], purchases_most.values[0, 135:169], color=color)\n",
    "plt.xticks(rotation=90)\n",
    "plt.title(\"Frequency of purchased products part 4\")\n",
    "plt.show()\n"
   ]
  },
  {
   "cell_type": "markdown",
   "metadata": {},
   "source": [
    "Applying apriori algorithm to find association rules"
   ]
  },
  {
   "cell_type": "code",
   "execution_count": null,
   "metadata": {},
   "outputs": [],
   "source": [
    "association_rules = apriori(transactions, min_support=0.01, min_confidence=0.2, \n",
    "                            min_lift=2.5, min_length=2)\n",
    "association_rules = list(association_rules)\n",
    "\n",
    "for item in association_rules:\n",
    "    print(\"Rule: \" + str([x for x in item[2][0][0]]) + \" -> \" + \n",
    "          str([x for x in item[2][0][1]]))\n",
    "\n",
    "    print(\"Support: \" + str(item[1]))\n",
    "\n",
    "    print(\"Confidence: \" + str(item[2][0][2]))\n",
    "    print(\"Lift: \" + str(item[2][0][3]))\n",
    "    print(\"....................................................\")\n"
   ]
  }
 ],
 "metadata": {
  "kernelspec": {
   "display_name": "Python 2",
   "language": "python",
   "name": "python2"
  },
  "language_info": {
   "codemirror_mode": {
    "name": "ipython",
    "version": 2
   },
   "file_extension": ".py",
   "mimetype": "text/x-python",
   "name": "python",
   "nbconvert_exporter": "python",
   "pygments_lexer": "ipython2",
   "version": "2.7.6"
  }
 },
 "nbformat": 4,
 "nbformat_minor": 0
}
